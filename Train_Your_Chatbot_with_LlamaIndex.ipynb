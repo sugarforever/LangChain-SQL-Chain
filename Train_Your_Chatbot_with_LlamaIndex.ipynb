{
  "cells": [
    {
      "cell_type": "markdown",
      "metadata": {
        "colab_type": "text",
        "id": "view-in-github"
      },
      "source": [
        "<a href=\"https://colab.research.google.com/github/sugarforever/llama-index-chatbot/blob/main/Train_Your_Chatbot_with_LlamaIndex.ipynb\" target=\"_parent\"><img src=\"https://colab.research.google.com/assets/colab-badge.svg\" alt=\"Open In Colab\"/></a>"
      ]
    },
    {
      "cell_type": "code",
      "execution_count": null,
      "metadata": {
        "colab": {
          "base_uri": "https://localhost:8080/"
        },
        "id": "4HHQlehr2szs",
        "outputId": "c775de95-54ba-4b2d-dc19-23e4866c56c1"
      },
      "outputs": [],
      "source": [
        "%pip install llama-index\n",
        "%pip install langchain"
      ]
    },
    {
      "cell_type": "code",
      "execution_count": null,
      "metadata": {
        "colab": {
          "base_uri": "https://localhost:8080/"
        },
        "id": "-B24JEue3Zwz",
        "outputId": "952e66fc-12e6-480d-8068-0fdfc5ed4baf"
      },
      "outputs": [],
      "source": [
        "!git clone https://github.com/WTFAcademy/WTF-Ethers.git"
      ]
    },
    {
      "cell_type": "code",
      "execution_count": null,
      "metadata": {},
      "outputs": [],
      "source": [
        "from llama_index import GPTSimpleVectorIndex, SimpleDirectoryReader, LLMPredictor, ServiceContext\n",
        "from langchain import OpenAI"
      ]
    },
    {
      "cell_type": "code",
      "execution_count": null,
      "metadata": {
        "id": "v1y_BJL52-1e"
      },
      "outputs": [],
      "source": [
        "documents = SimpleDirectoryReader('WTF-Ethers').load_data()\n",
        "\n",
        "llm_predictor = LLMPredictor(llm=OpenAI(temperature=0, max_tokens=200, model_name=\"text-ada-001\"))\n",
        "service_context = ServiceContext.from_defaults(llm_predictor=llm_predictor)\n",
        "write_index = GPTSimpleVectorIndex.from_documents(documents, service_context=service_context)\n",
        "write_index.save_to_disk('index.json')"
      ]
    },
    {
      "cell_type": "code",
      "execution_count": null,
      "metadata": {
        "id": "fTWUEtt23lV9"
      },
      "outputs": [],
      "source": [
        "query_index = GPTSimpleVectorIndex.load_from_disk('index.json')"
      ]
    },
    {
      "cell_type": "code",
      "execution_count": null,
      "metadata": {
        "colab": {
          "base_uri": "https://localhost:8080/"
        },
        "id": "LPIleTjQ3sDR",
        "outputId": "3eae1168-cd76-4287-dace-42f89c8a6c37"
      },
      "outputs": [],
      "source": [
        "query_index.query(\"请简介这门课程\")"
      ]
    },
    {
      "cell_type": "code",
      "execution_count": null,
      "metadata": {},
      "outputs": [],
      "source": [
        "query_index.query(\"课程一共有多少讲？\")"
      ]
    }
  ],
  "metadata": {
    "colab": {
      "authorship_tag": "ABX9TyOI6crcxsa6XS6O/5roNqo8",
      "include_colab_link": true,
      "provenance": []
    },
    "kernelspec": {
      "display_name": "Python 3",
      "name": "python3"
    },
    "language_info": {
      "codemirror_mode": {
        "name": "ipython",
        "version": 3
      },
      "file_extension": ".py",
      "mimetype": "text/x-python",
      "name": "python",
      "nbconvert_exporter": "python",
      "pygments_lexer": "ipython3",
      "version": "3.9.16"
    }
  },
  "nbformat": 4,
  "nbformat_minor": 0
}
